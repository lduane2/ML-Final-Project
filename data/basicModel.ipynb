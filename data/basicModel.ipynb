{
 "cells": [
  {
   "cell_type": "code",
   "execution_count": 4,
   "metadata": {},
   "outputs": [],
   "source": [
    "import os\n",
    "import tensorflow as tf"
   ]
  },
  {
   "cell_type": "code",
   "execution_count": 24,
   "metadata": {},
   "outputs": [
    {
     "name": "stdout",
     "output_type": "stream",
     "text": [
      "('1970-01-01', 113)\n",
      "('1970-04-01', 28)\n",
      "('1970-07-01', 29)\n",
      "('1970-10-01', 28)\n",
      "('1971-01-01', 110)\n",
      "('1971-04-01', 28)\n",
      "('1971-07-01', 29)\n",
      "('1971-10-01', 28)\n",
      "('1972-01-01', 110)\n",
      "('1972-04-01', 27)\n",
      "('1972-07-01', 27)\n",
      "('1972-10-01', 28)\n",
      "('1973-01-01', 112)\n",
      "('1973-04-01', 31)\n",
      "('1973-07-01', 34)\n",
      "('1973-10-01', 36)\n",
      "('1974-01-01', 127)\n",
      "('1974-04-01', 46)\n",
      "('1974-07-01', 51)\n",
      "('1974-10-01', 51)\n",
      "('1975-01-01', 133)\n",
      "('1975-04-01', 48)\n",
      "('1975-07-01', 50)\n",
      "('1975-10-01', 51)\n",
      "('1976-01-01', 133)\n",
      "('1976-04-01', 49)\n",
      "('1976-07-01', 50)\n",
      "('1976-10-01', 51)\n",
      "('1977-01-01', 137)\n",
      "('1977-04-01', 54)\n",
      "('1977-07-01', 55)\n",
      "('1977-10-01', 57)\n",
      "('1978-01-01', 141)\n",
      "('1978-04-01', 57)\n",
      "('1978-07-01', 58)\n",
      "('1978-10-01', 60)\n",
      "('1979-01-01', 147)\n"
     ]
    }
   ],
   "source": [
    "filename = \"out.csv\"\n",
    "\n",
    "features = tf.placeholder(tf.int32, shape=[5], name='features')\n",
    "date = tf.placeholder(tf.string, name='DATE')\n",
    "total = tf.reduce_sum(features, name='total')\n",
    "\n",
    "printerop = tf.Print(total, [date, features, total], name='printer')\n",
    "\n",
    "with tf.Session() as sess:\n",
    "    sess.run(tf.global_variables_initializer())\n",
    "    with open(filename) as inf:\n",
    "        # Skip header\n",
    "        next(inf)\n",
    "        for line in inf:\n",
    "            # Read data, using python, into our features\n",
    "            row, DATE, funds_rate, oil_cpi, high_tax_rate, low_tax_rate, unemployment, real_gdp = line.strip().split(\",\")\n",
    "            funds_rate = float(funds_rate)\n",
    "            oil_cpi = float(oil_cpi)\n",
    "            try:\n",
    "                high_tax_rate = float(high_tax_rate)\n",
    "            except:\n",
    "                pass\n",
    "            low_tax_rate = float(low_tax_rate)\n",
    "            unemployment = float(unemployment)\n",
    "            real_gdp = float(real_gdp)\n",
    "            \n",
    "            # Run the Print ob\n",
    "            total = sess.run(printerop, feed_dict={features: [funds_rate, oil_cpi, high_tax_rate, low_tax_rate, unemployment], date:DATE})\n",
    "            print(DATE, total)"
   ]
  },
  {
   "cell_type": "code",
   "execution_count": null,
   "metadata": {},
   "outputs": [],
   "source": []
  }
 ],
 "metadata": {
  "kernelspec": {
   "display_name": "Python 2",
   "language": "python",
   "name": "python2"
  },
  "language_info": {
   "codemirror_mode": {
    "name": "ipython",
    "version": 2
   },
   "file_extension": ".py",
   "mimetype": "text/x-python",
   "name": "python",
   "nbconvert_exporter": "python",
   "pygments_lexer": "ipython2",
   "version": "2.7.10"
  }
 },
 "nbformat": 4,
 "nbformat_minor": 2
}
