{
 "cells": [
  {
   "cell_type": "code",
   "execution_count": null,
   "metadata": {},
   "outputs": [],
   "source": [
    "#CONSTANTS\n",
    "init_year = '1970'\n",
    "ending = '2018'"
   ]
  },
  {
   "cell_type": "code",
   "execution_count": null,
   "metadata": {},
   "outputs": [],
   "source": [
    "#FUNCTIONS\n",
    "def get_relevant_years(df):\n",
    "    try:\n",
    "        df = df[df['DATE'] > init_year]\n",
    "        return df[df['DATE'] < ending]\n",
    "    except:\n",
    "        df = df[df['Date'] > init_year]\n",
    "        return df[df['Date'] < ending]"
   ]
  },
  {
   "cell_type": "code",
   "execution_count": null,
   "metadata": {},
   "outputs": [],
   "source": [
    "#IMPORTS\n",
    "import pandas as pd\n",
    "from functools import reduce"
   ]
  },
  {
   "cell_type": "code",
   "execution_count": null,
   "metadata": {},
   "outputs": [],
   "source": [
    "#Reading in tax info\n",
    "tax = pd.read_csv('IncomeTaxRates.csv')"
   ]
  },
  {
   "cell_type": "code",
   "execution_count": null,
   "metadata": {},
   "outputs": [],
   "source": [
    "#get_relevant_years(tax)"
   ]
  },
  {
   "cell_type": "code",
   "execution_count": null,
   "metadata": {},
   "outputs": [],
   "source": [
    "#Reading in Funds Rate\n",
    "funds_rate = pd.read_csv('MonthlyFundsRate.csv')"
   ]
  },
  {
   "cell_type": "code",
   "execution_count": null,
   "metadata": {},
   "outputs": [],
   "source": [
    "#get_relevant_years(funds_rate)"
   ]
  },
  {
   "cell_type": "code",
   "execution_count": null,
   "metadata": {},
   "outputs": [],
   "source": [
    "#Reading in Oil CPI\n",
    "oil_cpi = pd.read_csv('MonthlyOilCPI.csv')"
   ]
  },
  {
   "cell_type": "code",
   "execution_count": null,
   "metadata": {},
   "outputs": [],
   "source": [
    "#get_relevant_years(oil_cpi)"
   ]
  },
  {
   "cell_type": "code",
   "execution_count": null,
   "metadata": {},
   "outputs": [],
   "source": [
    "#Reading in S&P 500 data\n",
    "snp = pd.read_csv('MonthlySNPInfo.csv')"
   ]
  },
  {
   "cell_type": "code",
   "execution_count": null,
   "metadata": {},
   "outputs": [],
   "source": [
    "#get_relevant_years(snp)"
   ]
  },
  {
   "cell_type": "code",
   "execution_count": null,
   "metadata": {},
   "outputs": [],
   "source": [
    "gdp = pd.read_csv('RealQuarterlyGDP.csv')"
   ]
  },
  {
   "cell_type": "code",
   "execution_count": null,
   "metadata": {},
   "outputs": [],
   "source": [
    "#get_relevant_years(gdp)"
   ]
  },
  {
   "cell_type": "code",
   "execution_count": null,
   "metadata": {},
   "outputs": [],
   "source": [
    "unemployment = pd.read_csv('QuarterlyUnemploymentSeasonllyAdjusted.csv')\n",
    "#get_relevant_years(unemployment)"
   ]
  },
  {
   "cell_type": "code",
   "execution_count": null,
   "metadata": {},
   "outputs": [],
   "source": [
    "snp = pd.read_csv('^GSPC.csv') # S & P csv\n",
    "snp=snp[['Date','Adj Close']]\n",
    "snp.columns= ['DATE','SNP Adj Close']"
   ]
  },
  {
   "cell_type": "code",
   "execution_count": null,
   "metadata": {},
   "outputs": [],
   "source": [
    "#dfs = [tax, funds_rate, oil_cpi, snp, gdp, unemployment]\n",
    "dfs = [get_relevant_years(funds_rate), get_relevant_years(oil_cpi), get_relevant_years(tax), get_relevant_years(unemployment), get_relevant_years(gdp), get_relevant_years(snp)]"
   ]
  },
  {
   "cell_type": "code",
   "execution_count": null,
   "metadata": {},
   "outputs": [],
   "source": [
    "df_merged = reduce(lambda left,right: pd.merge(left,right,on='DATE', how='outer'), dfs)\n",
    "df_merged "
   ]
  },
  {
   "cell_type": "code",
   "execution_count": null,
   "metadata": {},
   "outputs": [],
   "source": [
    "i = -1 #quarter iterator\n",
    "j = -1 #total iterator\n",
    "\n",
    "#print(df_merged.values)\n",
    "\n",
    "\n",
    "for k, row in enumerate(df_merged.values):\n",
    "    j += 1\n",
    "    i += 1\n",
    "    i %= 3\n",
    "    if i == 1 or i == 2:\n",
    "        continue\n",
    "    if j > 573:\n",
    "        continue\n",
    "    if k % 12 == 0:\n",
    "        #get the tax rates\n",
    "        high_tax_rate = row[3]\n",
    "        low_tax_rate = row[4]\n",
    "    \n",
    "    #get averaged value\n",
    "    a_oil = row[2]\n",
    "    b_oil = df_merged.values[k+1][2]\n",
    "    c_oil = df_merged.values[k+2][2]\n",
    "    avg_oil = (a_oil + b_oil + c_oil) / 3\n",
    "    \n",
    "    a_rate = row[1]\n",
    "    b_rate = df_merged.values[k+1][1]\n",
    "    c_rate = df_merged.values[k+2][1]\n",
    "    avg_rate = (a_rate + b_rate + c_rate) / 3\n",
    "    \n",
    "    #set values\n",
    "    df_merged.set_value(k,'oil_cpi',avg_oil)\n",
    "    df_merged.set_value(k,'funds_rate', avg_rate)\n",
    "    df_merged.set_value(k,'high_tax_rate', high_tax_rate)\n",
    "    df_merged.set_value(k,'low_tax_rate', low_tax_rate)\n",
    "    "
   ]
  },
  {
   "cell_type": "code",
   "execution_count": null,
   "metadata": {},
   "outputs": [],
   "source": [
    "df_merged[::3].to_csv('QuarterlyResults.csv', header=False)"
   ]
  },
  {
   "cell_type": "code",
   "execution_count": null,
   "metadata": {},
   "outputs": [],
   "source": []
  }
 ],
 "metadata": {
  "kernelspec": {
   "display_name": "Python 2",
   "language": "python",
   "name": "python2"
  },
  "language_info": {
   "codemirror_mode": {
    "name": "ipython",
    "version": 2
   },
   "file_extension": ".py",
   "mimetype": "text/x-python",
   "name": "python",
   "nbconvert_exporter": "python",
   "pygments_lexer": "ipython2",
   "version": "2.7.10"
  }
 },
 "nbformat": 4,
 "nbformat_minor": 2
}
