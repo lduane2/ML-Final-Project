{
 "cells": [
  {
   "cell_type": "code",
   "execution_count": null,
   "metadata": {},
   "outputs": [],
   "source": [
    "from __future__ import absolute_import\n",
    "from __future__ import division\n",
    "from __future__ import print_function\n",
    "import tensorflow as tf\n",
    "import cleaned_econ_data"
   ]
  },
  {
   "cell_type": "code",
   "execution_count": null,
   "metadata": {},
   "outputs": [],
   "source": [
    "STEPS = 5000\n",
    "PRICE_NORM_FACTOR = 1000"
   ]
  },
  {
   "cell_type": "code",
   "execution_count": null,
   "metadata": {},
   "outputs": [],
   "source": [
    "tf.logging.set_verbosity(tf.logging.INFO)\n",
    "\n",
    "\"\"\"Builds, trains, and evaluates the model.\"\"\"\n",
    "(train, test) = cleaned_econ_data.dataset()\n",
    "\n",
    "# Switch the labels to units of thousands for better convergence.\n",
    "def normalize_price(features, labels):\n",
    "    return features, labels / PRICE_NORM_FACTOR\n",
    "\n",
    "train = train.map(normalize_price)\n",
    "test = test.map(normalize_price)\n",
    "\n",
    "# Build the training input_fn.\n",
    "def input_train():\n",
    "    return (\n",
    "            # Shuffling with a buffer larger than the data set ensures\n",
    "            # that the examples are well mixed.\n",
    "            train.shuffle(1000).batch(128)\n",
    "            # Repeat forever\n",
    "            .repeat().make_one_shot_iterator().get_next())\n",
    "\n",
    "# Build the validation input_fn.\n",
    "def input_test():\n",
    "    return (test.shuffle(1000).batch(128)\n",
    "                    .make_one_shot_iterator().get_next())\n",
    "\n",
    "feature_columns = [\n",
    "        tf.feature_column.numeric_column(key=\"funds-rate\"),\n",
    "        tf.feature_column.numeric_column(key=\"oil-cpi\"),\n",
    "        tf.feature_column.numeric_column(key=\"high-tax-rate\"),\n",
    "        tf.feature_column.numeric_column(key=\"low-tax-rate\"),\n",
    "        tf.feature_column.numeric_column(key=\"unemployment\"),\n",
    "        tf.feature_column.numeric_column(key=\"snp\")\n",
    "]\n",
    "\n",
    "# Build a DNNRegressor, with 2x20-unit hidden layers, with the feature columns\n",
    "# defined above as input.\n",
    "model = tf.estimator.DNNRegressor(\n",
    "        hidden_units=[20, 20], feature_columns=feature_columns)\n",
    "\n",
    "# Train the model.\n",
    "model.train(input_fn=input_train, steps=STEPS)\n",
    "\n",
    "# Evaluate how the model performs on data it has not yet seen.\n",
    "eval_result = model.evaluate(input_fn=input_test)\n",
    "\n",
    "# The evaluation returns a Python dictionary. The \"average_loss\" key holds the\n",
    "# Mean Squared Error (MSE).\n",
    "average_loss = eval_result[\"average_loss\"]\n",
    "\n",
    "# Convert MSE to Root Mean Square Error (RMSE).\n",
    "print(\"\\n\" + 80 * \"*\")\n",
    "print(\"\\nRMS error for the test set: {:.0f}\".format(average_loss**0.5))\n",
    "print(eval_result)\n",
    "\n",
    "print()"
   ]
  },
  {
   "cell_type": "code",
   "execution_count": null,
   "metadata": {},
   "outputs": [],
   "source": []
  }
 ],
 "metadata": {
  "kernelspec": {
   "display_name": "Python 2",
   "language": "python",
   "name": "python2"
  },
  "language_info": {
   "codemirror_mode": {
    "name": "ipython",
    "version": 2
   },
   "file_extension": ".py",
   "mimetype": "text/x-python",
   "name": "python",
   "nbconvert_exporter": "python",
   "pygments_lexer": "ipython2",
   "version": "2.7.10"
  }
 },
 "nbformat": 4,
 "nbformat_minor": 2
}
