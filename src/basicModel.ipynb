{
 "cells": [
  {
   "cell_type": "code",
   "execution_count": 135,
   "metadata": {},
   "outputs": [],
   "source": [
    "from __future__ import absolute_import\n",
    "from __future__ import division\n",
    "from __future__ import print_function\n",
    "import tensorflow as tf\n",
    "import numpy as np\n",
    "import pandas as pd\n",
    "import csv\n",
    "import cleaned_econ_data\n",
    "#sess = tf.InteractiveSession()"
   ]
  },
  {
   "cell_type": "code",
   "execution_count": 136,
   "metadata": {},
   "outputs": [],
   "source": [
    "STEPS = 5000\n",
    "DATA_PATH = '../data/QuarterlyResults.csv'\n",
    "FEATURE_NAMES = ['funds-rate', 'oil-cpi', 'high-tax-rate', 'low-tax-rate', 'unemployment', 'snp']\n",
    "# LABEL is GDP in this model\n",
    "\n",
    "tf.logging.set_verbosity(tf.logging.INFO)"
   ]
  },
  {
   "cell_type": "code",
   "execution_count": 137,
   "metadata": {},
   "outputs": [],
   "source": [
    "## Data Functions\n",
    "def import_data(path):\n",
    "    with open(path, 'r') as f:\n",
    "        dat = list(csv.reader(f))\n",
    "        ar = np.array(dat)\n",
    "\n",
    "    ## assumes columns are:\n",
    "    ## index, DATE, funds_rate, oil_cpi, high_tax_rate, low_tax_rate, unemployment, real_gdp, snp\n",
    "    \n",
    "    ## remove index column\n",
    "    ar = np.delete(ar,0,1)\n",
    "    \n",
    "    ## save DATE column and then remove\n",
    "    dates = np.split(ar,8,1)[0].flatten()\n",
    "    ar = np.delete(ar,0,1)\n",
    "    \n",
    "    ## convert data to floats\n",
    "    data = np.array(ar.tolist(), dtype=float)\n",
    "    \n",
    "    ## split label (gdp) from features\n",
    "    features = np.delete(data,5,1)\n",
    "    label    = np.delete(data,[0,1,2,3,4,6],1).flatten()\n",
    "    \n",
    "    return (dates, features, label)\n",
    "\n",
    "def split_data(dates, features, label, split_index):\n",
    "    train_dates     = dates[:split_index]\n",
    "    train_features  = features[:split_index]\n",
    "    train_label     = label[:split_index]\n",
    "    \n",
    "    test_dates      = dates[split_index:]\n",
    "    test_features   = features[split_index:]\n",
    "    test_label      = label[split_index:]\n",
    "    \n",
    "    return (train_dates, train_features, train_label, test_dates, test_features, test_label)\n",
    "\n",
    "def create_dataframe(numpy_data, feature_names):\n",
    "    return pd.DataFrame(numpy_data, columns=feature_names)\n",
    "\n",
    "def create_dataset(features, labels):\n",
    "    dataset = tf.data.Dataset.from_tensor_slices((dict(features), labels))\n",
    "    return dataset.batch(30)\n",
    "\n",
    "## Evalation Functions\n",
    "def percentage_error(predicted, actual):\n",
    "    if len(predicted)!=len(actual):\n",
    "        print(\"Cannot compare datasets of different length\")\n",
    "    \n",
    "    sum_percentage_error = 0\n",
    "    for i in range(len(predicted)):\n",
    "        sum_percentage_error = abs(predicted[i]-actual[i])/float(actual[i])\n",
    "    \n",
    "    return float(sum_percentage_error)/float(len(predicted)) \n"
   ]
  },
  {
   "cell_type": "code",
   "execution_count": 138,
   "metadata": {},
   "outputs": [],
   "source": [
    "(dates, features, label) = import_data(DATA_PATH)\n",
    "\n",
    "(train_dates, train_features, train_label, test_dates, test_features, test_label) = split_data(dates, features, label, 168)\n",
    "\n",
    "train_features_df = create_dataframe(train_features, FEATURE_NAMES)\n",
    "test_features_df  = create_dataframe(test_features, FEATURE_NAMES)"
   ]
  },
  {
   "cell_type": "code",
   "execution_count": 139,
   "metadata": {},
   "outputs": [],
   "source": [
    "#(train, test) = cleaned_econ_data.dataset()\n",
    "\n",
    "# # Build the training input_fn.\n",
    "# def input_train():\n",
    "#     return (\n",
    "#             # Shuffling with a buffer larger than the data set ensures\n",
    "#             # that the examples are well mixed.\n",
    "#             train.batch(128)\n",
    "#             # Repeat forever\n",
    "#             .repeat().make_one_shot_iterator().get_next())\n",
    "\n",
    "# # Build the validation input_fn.\n",
    "# def input_test():\n",
    "#     return (test.batch(128)\n",
    "#                     .make_one_shot_iterator().get_next())\n",
    "\n",
    "feature_columns = [\n",
    "        tf.feature_column.numeric_column(key=\"funds-rate\"),\n",
    "        tf.feature_column.numeric_column(key=\"oil-cpi\"),\n",
    "        tf.feature_column.numeric_column(key=\"high-tax-rate\"),\n",
    "        tf.feature_column.numeric_column(key=\"low-tax-rate\"),\n",
    "        tf.feature_column.numeric_column(key=\"unemployment\"),\n",
    "        tf.feature_column.numeric_column(key=\"snp\")\n",
    "]\n"
   ]
  },
  {
   "cell_type": "code",
   "execution_count": 140,
   "metadata": {},
   "outputs": [
    {
     "name": "stdout",
     "output_type": "stream",
     "text": [
      "INFO:tensorflow:Using default config.\n",
      "WARNING:tensorflow:Using temporary folder as model directory: /tmp/tmph8__iqa5\n",
      "INFO:tensorflow:Using config: {'_model_dir': '/tmp/tmph8__iqa5', '_tf_random_seed': None, '_save_summary_steps': 100, '_save_checkpoints_steps': None, '_save_checkpoints_secs': 600, '_session_config': None, '_keep_checkpoint_max': 5, '_keep_checkpoint_every_n_hours': 10000, '_log_step_count_steps': 100, '_service': None, '_cluster_spec': <tensorflow.python.training.server_lib.ClusterSpec object at 0x7f627c1ba7b8>, '_task_type': 'worker', '_task_id': 0, '_global_id_in_cluster': 0, '_master': '', '_evaluation_master': '', '_is_chief': True, '_num_ps_replicas': 0, '_num_worker_replicas': 1}\n",
      "INFO:tensorflow:Calling model_fn.\n",
      "INFO:tensorflow:Done calling model_fn.\n",
      "INFO:tensorflow:Create CheckpointSaverHook.\n",
      "INFO:tensorflow:Graph was finalized.\n",
      "INFO:tensorflow:Running local_init_op.\n",
      "INFO:tensorflow:Done running local_init_op.\n",
      "INFO:tensorflow:Saving checkpoints for 1 into /tmp/tmph8__iqa5/model.ckpt.\n",
      "INFO:tensorflow:loss = 844410600.0, step = 1\n",
      "INFO:tensorflow:Saving checkpoints for 6 into /tmp/tmph8__iqa5/model.ckpt.\n",
      "INFO:tensorflow:Loss for final step: 2378256400.0.\n",
      "INFO:tensorflow:Calling model_fn.\n",
      "INFO:tensorflow:Done calling model_fn.\n",
      "INFO:tensorflow:Graph was finalized.\n",
      "INFO:tensorflow:Restoring parameters from /tmp/tmph8__iqa5/model.ckpt-6\n",
      "INFO:tensorflow:Running local_init_op.\n",
      "INFO:tensorflow:Done running local_init_op.\n"
     ]
    }
   ],
   "source": [
    "# Build a DNNRegressor, with 2x20-unit hidden layers, with the feature columns\n",
    "# defined above as input.\n",
    "model = tf.estimator.DNNRegressor(\n",
    "        hidden_units=[20, 20], feature_columns=feature_columns)\n",
    "\n",
    "# Train the model with STEPS iterations\n",
    "model.train(input_fn=lambda : create_dataset(train_features_df, train_label), steps=STEPS)\n",
    "\n",
    "# Evaluate how the model performs on data it has not yet seen.\n",
    "predictions = list(model.predict(input_fn=lambda : create_dataset(test_features_df, test_label)))"
   ]
  },
  {
   "cell_type": "code",
   "execution_count": 141,
   "metadata": {},
   "outputs": [],
   "source": [
    "predicted_gpd = [p['predictions'][0] for p in predictions]\n",
    "err = percentage_error(predicted_gpd, test_label.tolist())"
   ]
  },
  {
   "cell_type": "code",
   "execution_count": 142,
   "metadata": {
    "scrolled": true
   },
   "outputs": [
    {
     "data": {
      "text/plain": [
       "0.021822760309935005"
      ]
     },
     "execution_count": 142,
     "metadata": {},
     "output_type": "execute_result"
    }
   ],
   "source": [
    "err"
   ]
  },
  {
   "cell_type": "code",
   "execution_count": null,
   "metadata": {},
   "outputs": [],
   "source": []
  },
  {
   "cell_type": "code",
   "execution_count": null,
   "metadata": {},
   "outputs": [],
   "source": []
  },
  {
   "cell_type": "code",
   "execution_count": null,
   "metadata": {},
   "outputs": [],
   "source": []
  }
 ],
 "metadata": {
  "kernelspec": {
   "display_name": "Python 3",
   "language": "python",
   "name": "python3"
  },
  "language_info": {
   "codemirror_mode": {
    "name": "ipython",
    "version": 3
   },
   "file_extension": ".py",
   "mimetype": "text/x-python",
   "name": "python",
   "nbconvert_exporter": "python",
   "pygments_lexer": "ipython3",
   "version": "3.6.3"
  }
 },
 "nbformat": 4,
 "nbformat_minor": 2
}
