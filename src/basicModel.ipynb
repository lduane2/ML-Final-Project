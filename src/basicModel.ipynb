{
 "cells": [
  {
   "cell_type": "code",
   "execution_count": null,
   "metadata": {},
   "outputs": [],
   "source": [
    "from __future__ import absolute_import\n",
    "from __future__ import division\n",
    "from __future__ import print_function\n",
    "import tensorflow as tf\n",
    "import cleaned_econ_data"
   ]
  },
  {
   "cell_type": "code",
   "execution_count": null,
   "metadata": {},
   "outputs": [],
   "source": [
    "STEPS = 5000\n",
    "PRICE_NORM_FACTOR = 1000"
   ]
  },
  {
   "cell_type": "code",
   "execution_count": null,
   "metadata": {},
   "outputs": [],
   "source": [
    "tf.logging.set_verbosity(tf.logging.INFO)\n",
    "\n",
    "\"\"\"Builds, trains, and evaluates the model.\"\"\"\n",
    "(train, test) = cleaned_econ_data.dataset()\n",
    "\n",
    "# train_input_fn = tf.estimator.inputs.numpy_input_fn(\n",
    "#     x={\"x\": np.array(train)},\n",
    "#     y=np.array(training_set.target),\n",
    "#     num_epochs=None,\n",
    "#     shuffle=True)\n",
    "\n",
    "# Build the training input_fn.\n",
    "def input_train():\n",
    "    return (\n",
    "            # Shuffling with a buffer larger than the data set ensures\n",
    "            # that the examples are well mixed.\n",
    "            train.batch(128)\n",
    "            # Repeat forever\n",
    "            .repeat().make_one_shot_iterator().get_next())\n",
    "\n",
    "# Build the validation input_fn.\n",
    "def input_test():\n",
    "    return (test.batch(128)\n",
    "                    .make_one_shot_iterator().get_next())\n",
    "\n",
    "feature_columns = [\n",
    "        tf.feature_column.numeric_column(key=\"funds-rate\"),\n",
    "        tf.feature_column.numeric_column(key=\"oil-cpi\"),\n",
    "        tf.feature_column.numeric_column(key=\"high-tax-rate\"),\n",
    "        tf.feature_column.numeric_column(key=\"low-tax-rate\"),\n",
    "        tf.feature_column.numeric_column(key=\"unemployment\"),\n",
    "        tf.feature_column.numeric_column(key=\"snp\")\n",
    "]\n",
    "\n",
    "# Build a DNNRegressor, with 2x20-unit hidden layers, with the feature columns\n",
    "# defined above as input.\n",
    "model = tf.estimator.DNNRegressor(\n",
    "        hidden_units=[20, 20], feature_columns=feature_columns)\n",
    "\n",
    "# Train the model.\n",
    "model.train(input_fn=input_train, steps=STEPS)\n",
    "\n",
    "# Evaluate how the model performs on data it has not yet seen.\n",
    "# eval_result = model.evaluate(input_fn=input_test)\n",
    "pred_result = list(model.predict(input_fn=input_test))\n"
   ]
  },
  {
   "cell_type": "code",
   "execution_count": null,
   "metadata": {},
   "outputs": [],
   "source": [
    "predictions = [p['predictions'][0] for p in pred_result]\n",
    "print(predictions)"
   ]
  },
  {
   "cell_type": "code",
   "execution_count": null,
   "metadata": {},
   "outputs": [],
   "source": []
  }
 ],
 "metadata": {
  "kernelspec": {
   "display_name": "Python 2",
   "language": "python",
   "name": "python2"
  },
  "language_info": {
   "codemirror_mode": {
    "name": "ipython",
    "version": 2
   },
   "file_extension": ".py",
   "mimetype": "text/x-python",
   "name": "python",
   "nbconvert_exporter": "python",
   "pygments_lexer": "ipython2",
   "version": "2.7.10"
  }
 },
 "nbformat": 4,
 "nbformat_minor": 2
}
